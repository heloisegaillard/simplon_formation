{
 "cells": [
  {
   "cell_type": "code",
   "execution_count": 1,
   "id": "0cdc4071",
   "metadata": {},
   "outputs": [],
   "source": [
    "grid = [[1,2,3,4,5,6,7,8,9],\n",
    "        [1,2,3,4,5,6,7,8,9],\n",
    "        [1,2,3,4,5,6,7,8,9], \n",
    "        [1,2,3,4,5,6,7,8,9], \n",
    "        [1,2,3,4,5,6,7,8,9],\n",
    "        [1,2,3,4,5,6,7,8,9], \n",
    "        [1,2,3,4,5,6,7,8,9], \n",
    "        [1,2,3,4,5,6,7,8,9], \n",
    "        [1,2,3,4,5,6,7,8,9]]\n",
    "sudoku_grid_impossible = [\n",
    "    [5, 3, 4, 6, 7, 8, 9, 1, 2],\n",
    "    [6, 7, 2, 1, 9, 0, 3, 4, 9],\n",
    "    [1, 0, 0, 3, 4, 2, 5, 6, 0],\n",
    "    [8, 5, 9, 7, 6, 1, 0, 2, 0],\n",
    "    [4, 2, 6, 8, 5, 3, 7, 9, 1],\n",
    "    [7, 1, 3, 9, 2, 4, 8, 5, 6],\n",
    "    [9, 0, 1, 5, 3, 7, 2, 1, 4],\n",
    "    [2, 8, 7, 4, 1, 9, 6, 3, 5],\n",
    "    [3, 0, 0, 4, 8, 1, 1, 7, 9]\n",
    "]\n",
    "sudoku_grid_true = [\n",
    "    [5, 3, 0, 0, 7, 0, 0, 0, 0],\n",
    "    [6, 0, 0, 1, 9, 5, 0, 0, 0],\n",
    "    [0, 9, 8, 0, 0, 0, 0, 6, 0],\n",
    "    [8, 0, 0, 0, 6, 0, 0, 0, 3],\n",
    "    [4, 0, 0, 8, 0, 3, 0, 0, 1],\n",
    "    [7, 0, 0, 0, 2, 0, 0, 0, 6],\n",
    "    [0, 6, 0, 0, 0, 0, 2, 8, 0],\n",
    "    [0, 0, 0, 4, 1, 9, 0, 0, 5],\n",
    "    [0, 0, 0, 0, 8, 0, 0, 7, 9]\n",
    "]"
   ]
  },
  {
   "cell_type": "code",
   "execution_count": 2,
   "id": "83458b32",
   "metadata": {},
   "outputs": [
    {
     "name": "stdout",
     "output_type": "stream",
     "text": [
      "1 2 3 | 4 5 6 | 7 8 9 \n",
      "1 2 3 | 4 5 6 | 7 8 9 \n",
      "1 2 3 | 4 5 6 | 7 8 9 \n",
      "---------------------\n",
      "1 2 3 | 4 5 6 | 7 8 9 \n",
      "1 2 3 | 4 5 6 | 7 8 9 \n",
      "1 2 3 | 4 5 6 | 7 8 9 \n",
      "---------------------\n",
      "1 2 3 | 4 5 6 | 7 8 9 \n",
      "1 2 3 | 4 5 6 | 7 8 9 \n",
      "1 2 3 | 4 5 6 | 7 8 9 \n"
     ]
    }
   ],
   "source": [
    "def print_sudo(grid):\n",
    "    # parcours toutes les lignes\n",
    "    for x in range(9):\n",
    "        # permet de diviser la grille en 3x3 , \n",
    "        # si c'est un multiple et que ce n'est pas zéro, je print une ligne\n",
    "        if x % 3 == 0 and x != 0:\n",
    "            print(\"-\" * 21)\n",
    "            # même fonctionnement mais pour les colonnes\n",
    "        for y in range(9):\n",
    "            if y % 3 == 0 and y != 0:\n",
    "                # mettre un trait mais sans saut de ligne\n",
    "                print(\"|\", end=\" \")\n",
    "                # ce print renvoie l'élément aux indices x et y\n",
    "                # le end permet de continuer sur la même ligne\n",
    "            print(grid[x][y], end = ' ')\n",
    "        print()\n",
    "print_sudo(grid)"
   ]
  },
  {
   "cell_type": "code",
   "execution_count": 4,
   "id": "203f001a",
   "metadata": {},
   "outputs": [
    {
     "data": {
      "text/plain": [
       "True"
      ]
     },
     "execution_count": 4,
     "metadata": {},
     "output_type": "execute_result"
    }
   ],
   "source": [
    "def sudoku_checker_ligne(grid):\n",
    "    # i correspond à une ligne, le range permet de check chaque chiffre de cette ligne\n",
    "    for i in range(9):\n",
    "        # stocke la \"i\" ème ligne de grid dans la variable ma_ligne\n",
    "        ma_ligne= grid[i]\n",
    "        if sorted(ma_ligne) !=[1,2,3,4,5,6,7,8,9]:\n",
    "            return False\n",
    "    return True\n",
    "sudoku_checker_ligne(grid)\n",
    "\n",
    "    "
   ]
  },
  {
   "cell_type": "code",
   "execution_count": 5,
   "id": "7efc1f7e",
   "metadata": {},
   "outputs": [
    {
     "data": {
      "text/plain": [
       "False"
      ]
     },
     "execution_count": 5,
     "metadata": {},
     "output_type": "execute_result"
    }
   ],
   "source": [
    "def sudoku_checker_col(grid):\n",
    "    # j correspond aux colonnes\n",
    "    for j in range (9):\n",
    "        check_col = []\n",
    "        # i correspond aux lignes\n",
    "        for i in range (9):\n",
    "            check_col.append(grid[i][j])\n",
    "        if sorted(check_col) !=[1,2,3,4,5,6,7,8,9]:\n",
    "            return False\n",
    "        return True\n",
    "sudoku_checker_col(grid)"
   ]
  },
  {
   "cell_type": "code",
   "execution_count": 6,
   "id": "3c97f259",
   "metadata": {},
   "outputs": [],
   "source": [
    "def sudoku_checker_carre(grid):\n",
    "    # itère sur les lignes du sudoku\n",
    "    for i in range(0,9,3):\n",
    "        # itère sur les colonnes du sudoku\n",
    "        for j in range(0,9,3):\n",
    "            carre = []\n",
    "            # itère sur les lignes du carré\n",
    "            for k in range(3):\n",
    "                # itère sur les colonnes du carré\n",
    "                for l in range(3):\n",
    "                    # récupère l'élément de la ligne i dans la colonne k, et constitue le carré\n",
    "                    # récupère l'élément de la ligne j et de la colonne l dans le carré\n",
    "                    carre.append(grid[i+k][j+l])\n",
    "            if sorted(carre) == [1,2,3,4,5,6,7,8,9]:\n",
    "                return carre\n",
    "sudoku_checker_carre(grid)"
   ]
  },
  {
   "cell_type": "code",
   "execution_count": 7,
   "id": "74166e54",
   "metadata": {},
   "outputs": [],
   "source": [
    "def check_number(grid,i,j,k):\n",
    "    # parcours toutes les lignes\n",
    "    for x in range(9):\n",
    "        # vérifie si k est déjà présent dans la ligne i\n",
    "        if grid[i][x] == k:\n",
    "            return False\n",
    "        # parcours toutes les colonnes\n",
    "    for y in range(9):\n",
    "        # vérifie si k est présent dans la colonne j\n",
    "        if grid[y][j] == k:\n",
    "            return False\n",
    "        #permet de se placer dans le bon carré 3x3\n",
    "    first_row = i - (i % 3)\n",
    "    first_col = j - (j % 3)\n",
    "    # permet de vérifier les valeurs du carré\n",
    "    for z in range(3):\n",
    "        for h in range(3):\n",
    "            if grid[first_row + z][first_col + h] == k:\n",
    "                return False\n",
    "            #Si aucunes conditions est false, ca veut dire que le nombre k peut être mis dans la case (i, j)\n",
    "    return True"
   ]
  },
  {
   "cell_type": "code",
   "execution_count": 8,
   "id": "8c91ec75",
   "metadata": {},
   "outputs": [],
   "source": [
    "def valid_sudoku(grid):\n",
    "    return sudoku_checker_ligne(grid) and sudoku_checker_col(grid) and sudoku_checker_carre(grid)"
   ]
  },
  {
   "cell_type": "code",
   "execution_count": 9,
   "id": "64ab4cb5",
   "metadata": {},
   "outputs": [],
   "source": [
    "def sudoku_solver2(grid):\n",
    "    for i in range(9):\n",
    "        for j in range(9):\n",
    "            # cherche dans les lignes et colonnes si il y a un 0, pour ensuite chercher la réponse\n",
    "            if grid[i][j] == 0:\n",
    "                for k in range(1, 10):\n",
    "                    # appelle la fonction check_number\n",
    "                    if check_number(grid, i, j, k):\n",
    "                        # si le chiffre marche, assigne k à la case\n",
    "                        grid[i][j] = k\n",
    "                        if sudoku_solver2(grid):\n",
    "                            return True \n",
    "                        # si aucun ne marche pas, remettre le chiffre à zéro\n",
    "                        grid[i][j] = 0\n",
    "                        # recommence l'itération précédente\n",
    "                return False\n",
    "    return True\n",
    "\n",
    "def sudoku_result(grid):\n",
    "    if sudoku_solver2(grid):\n",
    "        if valid_sudoku(grid):\n",
    "            print(\"Grille compléte et valide\")\n",
    "            print_sudo(grid)\n",
    "        else:\n",
    "            print(\"Grille compléte mais invalide\")\n",
    "    else:\n",
    "        print(\"Changez la grille celle ci ne peut être résolue ksos.\")"
   ]
  },
  {
   "cell_type": "code",
   "execution_count": 10,
   "id": "fa1e459f",
   "metadata": {},
   "outputs": [
    {
     "name": "stdout",
     "output_type": "stream",
     "text": [
      "Grille compléte et valide\n",
      "5 3 4 | 6 7 8 | 9 1 2 \n",
      "6 7 2 | 1 9 5 | 3 4 8 \n",
      "1 9 8 | 3 4 2 | 5 6 7 \n",
      "---------------------\n",
      "8 5 9 | 7 6 1 | 4 2 3 \n",
      "4 2 6 | 8 5 3 | 7 9 1 \n",
      "7 1 3 | 9 2 4 | 8 5 6 \n",
      "---------------------\n",
      "9 6 1 | 5 3 7 | 2 8 4 \n",
      "2 8 7 | 4 1 9 | 6 3 5 \n",
      "3 4 5 | 2 8 6 | 1 7 9 \n"
     ]
    }
   ],
   "source": [
    "sudoku_result(sudoku_grid_true)"
   ]
  },
  {
   "cell_type": "code",
   "execution_count": null,
   "id": "ce00661d",
   "metadata": {},
   "outputs": [],
   "source": []
  }
 ],
 "metadata": {
  "kernelspec": {
   "display_name": "Python 3 (ipykernel)",
   "language": "python",
   "name": "python3"
  },
  "language_info": {
   "codemirror_mode": {
    "name": "ipython",
    "version": 3
   },
   "file_extension": ".py",
   "mimetype": "text/x-python",
   "name": "python",
   "nbconvert_exporter": "python",
   "pygments_lexer": "ipython3",
   "version": "3.10.6"
  }
 },
 "nbformat": 4,
 "nbformat_minor": 5
}
