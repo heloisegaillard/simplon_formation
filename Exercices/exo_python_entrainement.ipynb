{
 "cells": [
  {
   "cell_type": "code",
   "execution_count": 1,
   "id": "25ed9faa",
   "metadata": {},
   "outputs": [
    {
     "name": "stdout",
     "output_type": "stream",
     "text": [
      "Choose a number:12\n",
      "C'est pair\n"
     ]
    }
   ],
   "source": [
    "user_number = int(input(\"Choose a number:\"))\n",
    "if user_number % 2 ==0:\n",
    "    print(\"C'est pair\")\n",
    "elif user_number % 2!= 0:\n",
    "    print(\"C'est impair\")\n",
    "else:\n",
    "    print(\"Erreur\")"
   ]
  },
  {
   "cell_type": "code",
   "execution_count": 2,
   "id": "5220cacb",
   "metadata": {},
   "outputs": [
    {
     "name": "stdout",
     "output_type": "stream",
     "text": [
      "1\n",
      "3\n",
      "9\n",
      "27\n",
      "81\n",
      "243\n",
      "729\n",
      "2187\n",
      "6561\n",
      "19683\n",
      "59049\n",
      "177147\n"
     ]
    }
   ],
   "source": [
    "nombre=1\n",
    "for i in range(12):\n",
    "    print(nombre)\n",
    "    nombre*=3"
   ]
  },
  {
   "cell_type": "code",
   "execution_count": 3,
   "id": "9561359d",
   "metadata": {},
   "outputs": [
    {
     "name": "stdout",
     "output_type": "stream",
     "text": [
      "Entrez un prix:50\n",
      "le prix est de 60.00\n",
      "Entrez un prix:0\n",
      "Finish\n"
     ]
    }
   ],
   "source": [
    "tva = 0.20\n",
    "while True:\n",
    "    try:\n",
    "        prix_ht= float(input(\"Entrez un prix:\"))\n",
    "        if prix_ht==0:\n",
    "            print(\"Finish\")\n",
    "            break\n",
    "        else:\n",
    "            ttc = prix_ht*(1+tva)\n",
    "            print(f\"le prix est de {ttc:.2f}\")\n",
    "    except ValueError:\n",
    "        print(\"essaye encore\")"
   ]
  },
  {
   "cell_type": "code",
   "execution_count": 5,
   "id": "c7e7c9c2",
   "metadata": {},
   "outputs": [
    {
     "name": "stdout",
     "output_type": "stream",
     "text": [
      "Entrez le nombre de termes de la série de Fibonacci que vous souhaitez générer: 10\n",
      "Série de Fibonacci des 10 premiers termes : [0, 1, 1, 2, 3, 5, 8, 13, 21, 34]\n"
     ]
    }
   ],
   "source": [
    "\n",
    "def fibonacci(n):\n",
    "    fib_series = [0, 1]\n",
    "\n",
    "    while len(fib_series) < n:\n",
    "        next_term = fib_series[-1] + fib_series[-2]\n",
    "        fib_series.append(next_term)\n",
    "\n",
    "    return fib_series[:n]\n",
    "\n",
    "# Demander à l'utilisateur le nombre de termes souhaités\n",
    "n_terms = int(input(\"Entrez le nombre de termes de la série de Fibonacci que vous souhaitez générer: \"))\n",
    "\n",
    "# Vérifier si l'utilisateur a entré un nombre positif\n",
    "if n_terms <= 0:\n",
    "    print(\"Veuillez entrer un nombre positif.\")\n",
    "else:\n",
    "    result = fibonacci(n_terms)\n",
    "    print(f\"Série de Fibonacci des {n_terms} premiers termes : {result}\")    \n",
    "    "
   ]
  },
  {
   "cell_type": "code",
   "execution_count": 17,
   "id": "b0887e01",
   "metadata": {},
   "outputs": [
    {
     "name": "stdout",
     "output_type": "stream",
     "text": [
      "choisi un nombre entier: 48\n",
      "[2, 3, 4, 6, 8, 12, 16, 24]\n"
     ]
    }
   ],
   "source": [
    "\n",
    "nb = int(input(\"choisi un nombre entier: \"))\n",
    "liste_div = []\n",
    "for i in range (2,nb):\n",
    "    if nb % i ==0:\n",
    "        liste_div.append(i)\n",
    "if liste_div == []:\n",
    "    print(\"le nombre est premier\")\n",
    "else:\n",
    "    print(liste_div)\n",
    "            \n",
    "        \n",
    "\n"
   ]
  },
  {
   "cell_type": "code",
   "execution_count": 30,
   "id": "8ec174c2",
   "metadata": {},
   "outputs": [
    {
     "name": "stdout",
     "output_type": "stream",
     "text": [
      "Entrez un entier strictement positif : 48\n",
      "Diviseurs propres sans répétition de 48: [2, 3, 4, 6, 8, 12, 16, 24] (soit 8 diviseurs propres)\n"
     ]
    }
   ],
   "source": [
    "def diviseurs_propres(n):\n",
    "    #il est possible de partir jusqu'a n/2\n",
    "    try:\n",
    "        #liste compréhension\n",
    "        diviseurs = [i for i in range(2, n) if n % i == 0]\n",
    "        if diviseurs:\n",
    "                print(f\"Diviseurs propres sans répétition de {n}: {sorted(set(diviseurs))} (soit {len(diviseurs)} diviseurs propres)\")\n",
    "        else:\n",
    "                print(f\"Aucun diviseur propre trouvé. {n} est premier.\")\n",
    "    except ValueError as e:\n",
    "        print(f\"Erreur : {e}\")\n",
    "\n",
    "entier = int(input(\"Entrez un entier strictement positif : \"))\n",
    "\n",
    "\n",
    "diviseurs_propres(entier)"
   ]
  },
  {
   "cell_type": "code",
   "execution_count": 28,
   "id": "ce828786",
   "metadata": {},
   "outputs": [
    {
     "data": {
      "text/plain": [
       "'bomme sieste'"
      ]
     },
     "execution_count": 28,
     "metadata": {},
     "output_type": "execute_result"
    }
   ],
   "source": [
    "def changeCar(ch,c1,c2,debut, fin):\n",
    "    return ch[:debut]+ch[debut:fin].replace(c1,c2)+ch[fin:]\n",
    "changeCar(\"bonne sieste\", \"n\", \"m\",2, 11)"
   ]
  },
  {
   "cell_type": "code",
   "execution_count": 39,
   "id": "f553195c",
   "metadata": {},
   "outputs": [
    {
     "name": "stdout",
     "output_type": "stream",
     "text": [
      "Combien de poules avez vous tué? 10\n",
      "Combien de chien avez vous tué? 10\n",
      "Combien de vaches avez vous tué? 10\n",
      "Combien d'amis avez vous tué? 10\n",
      "Votre amende est de 380.0.\n",
      "vous avez 190 points de perdu\n"
     ]
    }
   ],
   "source": [
    "def permis_chasse():\n",
    "    poule=int(input(\"Combien de poules avez vous tué? \"))\n",
    "    chien= int(input(\"Combien de chien avez vous tué? \"))\n",
    "    vache = int(input(\"Combien de vaches avez vous tué? \"))\n",
    "    ami = int(input(\"Combien d'amis avez vous tué? \"))\n",
    "    point_perdu = (poule*1)+(chien*3)+(vache*5)+(ami*10)\n",
    "    taxe=0\n",
    "    if point_perdu >= 100:\n",
    "        taxe+=point_perdu/100\n",
    "        total= taxe *200\n",
    "        print(f\"Votre amende est de {total}.\")\n",
    "        print(f\"vous avez {point_perdu} points de perdu\")\n",
    "    else:\n",
    "        print(\"Votre permis est toujours valable\")\n",
    "        print(f\"vous avez {point_perdu} points de perdu\")\n",
    "permis_chasse()"
   ]
  },
  {
   "cell_type": "code",
   "execution_count": 35,
   "id": "695cfb42",
   "metadata": {},
   "outputs": [
    {
     "name": "stdout",
     "output_type": "stream",
     "text": [
      "Votre amende est de 1240.0.\n"
     ]
    }
   ],
   "source": [
    "def permis_chasse(poule, chien, vache, ami):\n",
    "    montant = (poule*1)+(chien*3)+(vache*5)+(ami*10)\n",
    "    taxe=0\n",
    "    if montant >= 100:\n",
    "        taxe+=montant/100\n",
    "        total= taxe *200\n",
    "        print(f\"Votre amende est de {total}.\")\n",
    "permis_chasse(10,20,30,40)"
   ]
  },
  {
   "cell_type": "code",
   "execution_count": 45,
   "id": "dc6c0509",
   "metadata": {},
   "outputs": [
    {
     "name": "stdout",
     "output_type": "stream",
     "text": [
      "Guess the number: 40\n",
      "cold\n",
      "Votre choix: 60\n",
      "colder\n",
      "Votre choix: 50\n",
      "warmer\n",
      "Votre choix: 45\n",
      "warmer\n",
      "Votre choix: 42\n",
      "warmer\n",
      "Votre choix: 40\n",
      "warmer\n",
      "Votre choix: 38\n",
      "warmer\n",
      "Votre choix: 35\n",
      "warmer\n",
      "Votre choix: 30\n",
      "warmer\n",
      "Votre choix: 20\n",
      "colder\n",
      "Votre choix: 28\n",
      "Bravo tu as gagné en 11 tentatives\n"
     ]
    }
   ],
   "source": [
    "import random\n",
    "random_num = random.randint(1,100)\n",
    "first_guess = int(input(\"Guess the number: \"))\n",
    "if first_guess >100 or first_guess < 1:\n",
    "    print(\"out of bounds\")\n",
    "first_gap = max(first_guess- random_num, random_num-first_guess)\n",
    "if first_gap == 0:\n",
    "    print(\"Congrats!\")\n",
    "elif first_gap <11:\n",
    "    print(\"warm\")\n",
    "else:\n",
    "    print(\"cold\")\n",
    "count = 1\n",
    "game_over = False\n",
    "while game_over == False:\n",
    "    count += 1\n",
    "    second_guess = int(input(\"Votre choix: \"))\n",
    "    second_gap = max(second_guess- random_num, random_num-second_guess)\n",
    "    if second_gap == 0:\n",
    "        print(f\"Bravo tu as gagné en {count} tentatives\")\n",
    "        game_over= True\n",
    "    elif second_gap<first_gap:\n",
    "        print(\"warmer\")\n",
    "    else:\n",
    "        print(\"colder\")\n",
    "    first_gap=second_gap\n",
    "    \n",
    "    "
   ]
  },
  {
   "cell_type": "code",
   "execution_count": null,
   "id": "b2cdf833",
   "metadata": {},
   "outputs": [],
   "source": []
  },
  {
   "cell_type": "code",
   "execution_count": null,
   "id": "ea80b5e8",
   "metadata": {},
   "outputs": [],
   "source": []
  }
 ],
 "metadata": {
  "kernelspec": {
   "display_name": "Python 3 (ipykernel)",
   "language": "python",
   "name": "python3"
  },
  "language_info": {
   "codemirror_mode": {
    "name": "ipython",
    "version": 3
   },
   "file_extension": ".py",
   "mimetype": "text/x-python",
   "name": "python",
   "nbconvert_exporter": "python",
   "pygments_lexer": "ipython3",
   "version": "3.10.6"
  }
 },
 "nbformat": 4,
 "nbformat_minor": 5
}
